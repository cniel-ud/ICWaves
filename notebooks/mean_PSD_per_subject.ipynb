{
 "cells": [
  {
   "cell_type": "code",
   "execution_count": 1,
   "metadata": {},
   "outputs": [],
   "source": [
    "import matplotlib.pyplot as plt\n",
    "from pathlib import Path\n",
    "from scipy.io import loadmat\n",
    "from icwaves.feature_extractors.psd import eeg_psd\n",
    "import numpy as np\n",
    "from pathlib import Path\n",
    "import re"
   ]
  },
  {
   "cell_type": "code",
   "execution_count": 7,
   "metadata": {},
   "outputs": [
    {
     "name": "stdout",
     "output_type": "stream",
     "text": [
      "Processing subject 08\n",
      "Processing subject 09\n",
      "Processing subject 02\n",
      "Processing subject 03\n",
      "Processing subject 01\n",
      "Processing subject 10\n",
      "Processing subject 04\n",
      "Processing subject 05\n",
      "Processing subject 11\n",
      "Processing subject 07\n",
      "Processing subject 12\n",
      "Processing subject 06\n"
     ]
    }
   ],
   "source": [
    "# Load the .mat file\n",
    "# data_set = \"emotion_study\"\n",
    "data_set = \"cue\"\n",
    "mat_folder = Path(f'../data/{data_set}/raw_data_and_IC_labels/')\n",
    "psd_folder = Path(f'../data/{data_set}/PSD/')\n",
    "psd_folder.mkdir(parents=True, exist_ok=True)\n",
    "\n",
    "# inside raw_data_and_IC_labels, there are files with pattern `subj-<id>.mat`, with\n",
    "# <id> being a two digit integer. Each file *.mat file has a `data` matrix whose rows\n",
    "# and columns are the channels and time points of a multi-channel EEG signal for a\n",
    "# subject, respectively. We now compute the average PSD per subject, by taking the mean\n",
    "# of the PSD of each channel.\n",
    "subj_pattern = r'subj-(\\d{2})\\.mat'\n",
    "for file in mat_folder.iterdir():\n",
    "    match = re.match(subj_pattern, file.name)\n",
    "    subject_id = match.group(1)\n",
    "    print(f\"Processing subject {subject_id}\")\n",
    "    with file.open(\"br\") as f:\n",
    "        mat_data = loadmat(f)\n",
    "    raw_EEG = mat_data[\"data\"]\n",
    "    srate = mat_data[\"srate\"]\n",
    "    psd = eeg_psd(raw_EEG, srate, logscale=False)\n",
    "    psd = psd.mean(axis=0)\n",
    "\n",
    "    # save the mean PSD in a file with pattern name 'subj-<subject-id>.npy'\n",
    "    fname = f\"meanPSD_subj-{subject_id}.npy\"\n",
    "    fpath = psd_folder.joinpath(fname)\n",
    "    with fpath.open(\"bw\") as f:\n",
    "        np.save(f, psd)"
   ]
  }
 ],
 "metadata": {
  "kernelspec": {
   "display_name": "python-3.9",
   "language": "python",
   "name": "python3"
  },
  "language_info": {
   "codemirror_mode": {
    "name": "ipython",
    "version": 3
   },
   "file_extension": ".py",
   "mimetype": "text/x-python",
   "name": "python",
   "nbconvert_exporter": "python",
   "pygments_lexer": "ipython3",
   "version": "3.10.14"
  },
  "orig_nbformat": 4
 },
 "nbformat": 4,
 "nbformat_minor": 2
}
