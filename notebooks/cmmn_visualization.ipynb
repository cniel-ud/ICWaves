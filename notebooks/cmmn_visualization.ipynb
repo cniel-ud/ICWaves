{
 "cells": [
  {
   "cell_type": "markdown",
   "metadata": {},
   "source": [
    "# CMMN (Convolutional Monge Mapping Normalization) Visualization\n",
    "\n",
    "This notebook visualizes the pre-computed CMMN domain adaptation results for EEG signals.\n",
    "\n",
    "All data has been pre-processed on HPC. This notebook only loads and visualizes:\n",
    "- Pre-computed filters\n",
    "- Pre-computed PSDs (raw and transformed)\n",
    "- Barycenters\n",
    "\n",
    "No raw data loading or transformations are performed here to minimize resource usage. In practice, we've used HPC for this due to high memory requirements, as we load the whole dataset into memory to compute transformations and filters. In practice, CPU only jobs with a large deal of RAM (~128 gb) are enough; no GPU is required for our CMMN functions."
   ]
  },
  {
   "cell_type": "code",
   "execution_count": 1,
   "metadata": {},
   "outputs": [],
   "source": [
    "# Set OMP constants to use only 8 CPUs\n",
    "import os\n",
    "os.environ[\"OMP_NUM_THREADS\"] = \"8\""
   ]
  },
  {
   "cell_type": "code",
   "execution_count": 2,
   "metadata": {},
   "outputs": [],
   "source": [
    "# Imports\n",
    "import sys\n",
    "import numpy as np\n",
    "import matplotlib.pyplot as plt\n",
    "from pathlib import Path\n",
    "\n",
    "# Add parent directory to path for icwaves imports\n",
    "sys.path.append('..')\n",
    "\n",
    "# Import CMMN visualization functions from the new module\n",
    "from icwaves.cmmn import (\n",
    "    plot_psd,\n",
    "    plot_barycenter,\n",
    "    plot_freq_filter,\n",
    ")"
   ]
  },
  {
   "cell_type": "markdown",
   "metadata": {},
   "source": [
    "## Setup Paths and Parameters"
   ]
  },
  {
   "cell_type": "code",
   "execution_count": 3,
   "metadata": {},
   "outputs": [
    {
     "name": "stdout",
     "output_type": "stream",
     "text": [
      "Will process 34 emotion subjects and 12 cue subjects\n"
     ]
    }
   ],
   "source": [
    "# Subject lists\n",
    "emotion_subj_list = [f'{i:02d}' for i in range(1, 36) if i != 22]  # 01-35 minus 22. Subject 22 is missing from the original dataset.\n",
    "cue_subj_list = [f'{i:02d}' for i in range(1, 13)]  # 01-12\n",
    "\n",
    "print(f\"Will process {len(emotion_subj_list)} emotion subjects and {len(cue_subj_list)} cue subjects\")"
   ]
  },
  {
   "cell_type": "code",
   "execution_count": 4,
   "metadata": {},
   "outputs": [],
   "source": [
    "# Data paths\n",
    "data_dir = Path('../data/filters_and_psds')\n",
    "\n",
    "# Filter paths\n",
    "filters_filepath = data_dir / 'filters'\n",
    "\n",
    "# Raw PSD paths  \n",
    "emotion_raw_psd_filepath = data_dir / 'psds' / 'emotion'\n",
    "cue_raw_psd_filepath = data_dir / 'psds' / 'cue_256'"
   ]
  },
  {
   "cell_type": "markdown",
   "metadata": {},
   "source": [
    "## Load Pre-computed PSDs"
   ]
  },
  {
   "cell_type": "code",
   "execution_count": 5,
   "metadata": {},
   "outputs": [
    {
     "name": "stdout",
     "output_type": "stream",
     "text": [
      "Loaded 34 raw emotion PSDs and 12 raw cue PSDs\n"
     ]
    }
   ],
   "source": [
    "# Load raw PSDs\n",
    "emotion_data_psds_raw = []\n",
    "cue_data_psds_raw = []\n",
    "\n",
    "if emotion_raw_psd_filepath.exists():\n",
    "    for subj in emotion_subj_list:\n",
    "        psd_file = emotion_raw_psd_filepath / f'subj-{subj}_psds.npz'\n",
    "        if psd_file.exists():\n",
    "            emotion_data_psds_raw.append(np.load(psd_file)['arr_0'])\n",
    "\n",
    "if cue_raw_psd_filepath.exists():\n",
    "    for subj in cue_subj_list:\n",
    "        psd_file = cue_raw_psd_filepath / f'cue_extract_{subj}_256_hz_psds.npz'\n",
    "        if psd_file.exists():\n",
    "            cue_data_psds_raw.append(np.load(psd_file)['arr_0'])\n",
    "\n",
    "print(f\"Loaded {len(emotion_data_psds_raw)} raw emotion PSDs and {len(cue_data_psds_raw)} raw cue PSDs\")"
   ]
  },
  {
   "cell_type": "markdown",
   "metadata": {},
   "source": [
    "## 1. Raw PSDs - Emotion Dataset"
   ]
  },
  {
   "cell_type": "code",
   "execution_count": null,
   "metadata": {},
   "outputs": [],
   "source": "# Plot raw PSDs for emotion\nif emotion_data_psds_raw:\n    plot_psd(emotion_data_psds_raw, psds=emotion_data_psds_raw,\n             title='Emotion Data, Unnormalized PSDs',\n             save_path='cmmn_figures/emotion_raw_psds.pdf')"
  },
  {
   "cell_type": "markdown",
   "metadata": {},
   "source": [
    "## 2. Raw PSDs - Cue Dataset"
   ]
  },
  {
   "cell_type": "code",
   "execution_count": null,
   "metadata": {},
   "outputs": [],
   "source": "# Plot raw PSDs for cue\nif cue_data_psds_raw:\n    plot_psd(cue_data_psds_raw, psds=cue_data_psds_raw,\n             title='Cue Data, Unnormalized PSDs',\n             save_path='cmmn_figures/cue_raw_psds.pdf')"
  },
  {
   "cell_type": "markdown",
   "metadata": {},
   "source": "## 3. Barycenter Visualization"
  },
  {
   "cell_type": "code",
   "execution_count": null,
   "metadata": {},
   "outputs": [],
   "source": "# Load and plot normed barycenter for emotion\nbarycenter_file = filters_filepath / 'emotion_normed_ch_avg_barycenter.npz'\nif barycenter_file.exists():\n    normed_emotion_barycenter = np.load(barycenter_file)['arr_0']\n    plot_barycenter(normed_emotion_barycenter, \n                    title='Normalized Emotion Barycenter',\n                    save_path='cmmn_figures/emotion_barycenter.pdf')\nelse:\n    print(f\"Barycenter file not found: {barycenter_file}\")"
  },
  {
   "cell_type": "markdown",
   "metadata": {},
   "source": [
    "## 4. Frequency Filters - Cue Dataset (Barycenter Mapping)"
   ]
  },
  {
   "cell_type": "code",
   "execution_count": 9,
   "metadata": {},
   "outputs": [
    {
     "name": "stdout",
     "output_type": "stream",
     "text": [
      "Loaded cue filters:\n",
      "  - Barycenter mapping: 12 frequency filters\n",
      "  - Subject-to-subject mapping: 12 frequency filters\n"
     ]
    }
   ],
   "source": [
    "# Load cue frequency filters for both regimes\n",
    "cue_original_freq_filters = []\n",
    "cue_subj_subj_freq_filters = []\n",
    "\n",
    "for subj in cue_subj_list:\n",
    "    # Original/barycenter filters\n",
    "    orig_freq_path = filters_filepath / f'cue_original_ch_avg_barycenter_freq_filter_{subj}.npz'\n",
    "    if orig_freq_path.exists():\n",
    "        cue_original_freq_filters.append(np.load(orig_freq_path)['arr_0'])\n",
    "    \n",
    "    # Subject-to-subject filters\n",
    "    subj_freq_path = filters_filepath / f'cue_subj_subj_ch_avg_barycenter_freq_filter_{subj}.npz'\n",
    "    if subj_freq_path.exists():\n",
    "        cue_subj_subj_freq_filters.append(np.load(subj_freq_path)['arr_0'])\n",
    "\n",
    "print(f\"Loaded cue filters:\")\n",
    "print(f\"  - Barycenter mapping: {len(cue_original_freq_filters)} frequency filters\")\n",
    "print(f\"  - Subject-to-subject mapping: {len(cue_subj_subj_freq_filters)} frequency filters\")"
   ]
  },
  {
   "cell_type": "code",
   "execution_count": null,
   "metadata": {},
   "outputs": [],
   "source": "# Visualize cue frequency filters - barycenter mapping\nif cue_original_freq_filters:\n    plot_freq_filter(cue_original_freq_filters, \n                    title='Cue Barycenter Mapping Frequency Filters',\n                    save_path='cmmn_figures/cue_barycenter_freq_filters.pdf')"
  },
  {
   "cell_type": "markdown",
   "metadata": {},
   "source": [
    "## 5. Frequency Filters - Cue Dataset (Subject-to-Subject Mapping)"
   ]
  },
  {
   "cell_type": "code",
   "execution_count": null,
   "metadata": {},
   "outputs": [],
   "source": "# Visualize cue frequency filters - subject-to-subject\nif cue_subj_subj_freq_filters:\n    plot_freq_filter(cue_subj_subj_freq_filters, \n                    title='Cue Subj-to-subj Mapping Frequency Filters',\n                    save_path='cmmn_figures/cue_subj_subj_freq_filters.pdf')"
  },
  {
   "cell_type": "code",
   "execution_count": 12,
   "metadata": {},
   "outputs": [
    {
     "name": "stdout",
     "output_type": "stream",
     "text": [
      "\n",
      "============================================================\n",
      "CMMN VISUALIZATION COMPLETE!\n",
      "============================================================\n",
      "\n",
      "Data processed:\n",
      "  - 34 emotion subjects\n",
      "  - 12 cue subjects\n",
      "\n",
      "Filters loaded:\n",
      "  - Cue → Emotion (barycenter): 12 subjects\n",
      "  - Cue → Emotion (subj-to-subj): 12 subjects\n",
      "\n",
      "Visualizations:\n",
      "  1. Raw PSDs - Emotion: 34 subjects\n",
      "  2. Raw PSDs - Cue: 12 subjects\n",
      "  3. Barycenter: Normalized emotion barycenter\n",
      "  4. Cue Filters (barycenter): 12 frequency filters\n",
      "  5. Cue Filters (subj-to-subj): 12 frequency filters\n"
     ]
    }
   ],
   "source": [
    "print(\"\\n\" + \"=\"*60)\n",
    "print(\"CMMN VISUALIZATION COMPLETE!\")\n",
    "print(\"=\"*60)\n",
    "print(f\"\\nData processed:\")\n",
    "print(f\"  - {len(emotion_subj_list)} emotion subjects\")\n",
    "print(f\"  - {len(cue_subj_list)} cue subjects\")\n",
    "\n",
    "print(f\"\\nFilters loaded:\")\n",
    "print(f\"  - Cue → Emotion (barycenter): {len(cue_original_freq_filters)} subjects\")\n",
    "print(f\"  - Cue → Emotion (subj-to-subj): {len(cue_subj_subj_freq_filters)} subjects\")\n",
    "\n",
    "print(f\"\\nVisualizations:\")\n",
    "print(f\"  1. Raw PSDs - Emotion: {len(emotion_data_psds_raw)} subjects\")\n",
    "print(f\"  2. Raw PSDs - Cue: {len(cue_data_psds_raw)} subjects\")\n",
    "print(f\"  3. Barycenter: Normalized emotion barycenter\")\n",
    "print(f\"  4. Cue Filters (barycenter): {len(cue_original_freq_filters)} frequency filters\")\n",
    "print(f\"  5. Cue Filters (subj-to-subj): {len(cue_subj_subj_freq_filters)} frequency filters\")"
   ]
  }
 ],
 "metadata": {
  "kernelspec": {
   "display_name": "Python 3",
   "language": "python",
   "name": "python3"
  },
  "language_info": {
   "codemirror_mode": {
    "name": "ipython",
    "version": 3
   },
   "file_extension": ".py",
   "mimetype": "text/x-python",
   "name": "python",
   "nbconvert_exporter": "python",
   "pygments_lexer": "ipython3",
   "version": "3.8.0"
  }
 },
 "nbformat": 4,
 "nbformat_minor": 4
}