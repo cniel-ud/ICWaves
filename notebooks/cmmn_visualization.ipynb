{
 "cells": [
  {
   "cell_type": "markdown",
   "metadata": {},
   "source": [
    "# CMMN (Convolutional Monge Mapping Normalization) Visualization\n",
    "\n",
    "This notebook demonstrates the CMMN domain adaptation method for EEG signals.\n",
    "\n",
    "Dr. B has recommended to do the notebook here in colab so that we all have the same data and can easily run it. I think it's a good idea so I'm porting it over now. Still saving to the git repo though.\n",
    "\n",
    "Later, once this is complete, will refresh on the newly refactored codebase to do BoW on this and then Carlos can test it with his shiny new clfs.\n",
    "\n",
    "Right now this is finished, currently setting up a Caviness job to run through everything.\n",
    "\n",
    "Post NER note - moved to notebooks, make sure that the filepaths work correctly when re-visualized."
   ]
  },
  {
   "cell_type": "code",
   "execution_count": 1,
   "metadata": {},
   "outputs": [],
   "source": [
    "# Set OMP constants to use only 8 CPUs\n",
    "import os\n",
    "os.environ[\"OMP_NUM_THREADS\"] = \"8\""
   ]
  },
  {
   "cell_type": "code",
   "execution_count": 2,
   "metadata": {},
   "outputs": [],
   "source": [
    "# Imports\n",
    "import sys\n",
    "import numpy as np\n",
    "import matplotlib.pyplot as plt\n",
    "from pathlib import Path\n",
    "from scipy.io import loadmat\n",
    "\n",
    "# Add parent directory to path for icwaves imports\n",
    "sys.path.append('..')\n",
    "\n",
    "# Import CMMN functions from the new module\n",
    "from icwaves.cmmn import (\n",
    "    psd,\n",
    "    compute_normed_barycenter,\n",
    "    compute_filter_original,\n",
    "    compute_filter_subj_subj,\n",
    "    subj_subj_matching,\n",
    "    transform_original,\n",
    "    transform_data_subj_subj,\n",
    "    transform_data_subj_subj_single,\n",
    "    transform_original_single,\n",
    "    plot_psd,\n",
    "    plot_raw_signals,\n",
    "    plot_polysomnograph,\n",
    "    plot_barycenter,\n",
    "    plot_freq_filter,\n",
    "    plot_time_filter,\n",
    ")"
   ]
  },
  {
   "cell_type": "markdown",
   "metadata": {},
   "source": [
    "## Setup Paths and Parameters"
   ]
  },
  {
   "cell_type": "code",
   "execution_count": 3,
   "metadata": {},
   "outputs": [],
   "source": [
    "# Full subject lists for HPC processing\n",
    "emotion_subj_list = [f'{i:02d}' for i in range(1, 36) if i != 22]  # 01-35 minus 22\n",
    "frolich_subj_list = [f'{i:02d}' for i in range(1, 13)]  # 01-12\n",
    "\n",
    "# Output directory for PDF figures\n",
    "output_dir = Path('./ner_figures')\n",
    "output_dir.mkdir(parents=True, exist_ok=True)\n",
    "\n",
    "# Flag for PSD computation\n",
    "make_psds = False  # change to True if running the notebook for the first time."
   ]
  },
  {
   "cell_type": "code",
   "execution_count": 4,
   "metadata": {},
   "outputs": [],
   "source": [
    "# HPC file paths\n",
    "data_dir = Path('../data')\n",
    "emotion_filepath = data_dir / 'emotion_256' / 'raw_data_and_IC_labels'\n",
    "frolich_filepath = data_dir / 'frolich_256' / 'frolich_extract_256_hz'\n",
    "\n",
    "emotion_transformed_filepath = data_dir / 'emotion_256' / 'emotion_data_cmmn_ch_avg_barycenter'\n",
    "frolich_transformed_filepath = data_dir / 'frolich_256' / 'frolich_extract_256_hz_cmmn_ch_avg_barycenter'\n",
    "emotion_transformed_psd_filepath = data_dir / 'emotion_256' / 'emotion_data_cmmn_ch_avg_barycenter' / 'psds'\n",
    "frolich_transformed_subj_subj_psd_filepath = data_dir / 'frolich_256' / 'frolich_extract_256_hz_cmmn_ch_avg_barycenter' / 'subj_subj_psds'\n",
    "frolich_transformed_original_psd_filepath = data_dir / 'frolich_256' / 'frolich_extract_256_hz_cmmn_ch_avg_barycenter' / 'original_psds'\n",
    "\n",
    "# PSD file paths  \n",
    "emotion_normed_psd_filepath = emotion_filepath / 'psds_normed'\n",
    "frolich_normed_psd_filepath = frolich_filepath / 'psds_normed'\n",
    "\n",
    "emotion_raw_psd_filepath = emotion_filepath / 'psds'\n",
    "frolich_raw_psd_filepath = frolich_filepath / 'psds'\n",
    "\n",
    "# Create all necessary directories\n",
    "emotion_transformed_filepath.mkdir(parents=True, exist_ok=True)\n",
    "frolich_transformed_filepath.mkdir(parents=True, exist_ok=True)\n",
    "emotion_transformed_psd_filepath.mkdir(parents=True, exist_ok=True)\n",
    "frolich_transformed_subj_subj_psd_filepath.mkdir(parents=True, exist_ok=True)\n",
    "frolich_transformed_original_psd_filepath.mkdir(parents=True, exist_ok=True)"
   ]
  },
  {
   "cell_type": "markdown",
   "metadata": {},
   "source": [
    "## Load Raw Data"
   ]
  },
  {
   "cell_type": "code",
   "execution_count": 5,
   "metadata": {},
   "outputs": [
    {
     "ename": "KeyboardInterrupt",
     "evalue": "",
     "output_type": "error",
     "traceback": [
      "\u001b[31m---------------------------------------------------------------------------\u001b[39m",
      "\u001b[31mKeyboardInterrupt\u001b[39m                         Traceback (most recent call last)",
      "\u001b[36mCell\u001b[39m\u001b[36m \u001b[39m\u001b[32mIn[5]\u001b[39m\u001b[32m, line 4\u001b[39m\n\u001b[32m      2\u001b[39m emotion_data = []\n\u001b[32m      3\u001b[39m \u001b[38;5;28;01mfor\u001b[39;00m subj \u001b[38;5;129;01min\u001b[39;00m emotion_subj_list:\n\u001b[32m----> \u001b[39m\u001b[32m4\u001b[39m     emotion_data.append(\u001b[43mloadmat\u001b[49m\u001b[43m(\u001b[49m\u001b[43memotion_filepath\u001b[49m\u001b[43m \u001b[49m\u001b[43m/\u001b[49m\u001b[43m \u001b[49m\u001b[33;43mf\u001b[39;49m\u001b[33;43m'\u001b[39;49m\u001b[33;43msubj-\u001b[39;49m\u001b[38;5;132;43;01m{\u001b[39;49;00m\u001b[43msubj\u001b[49m\u001b[38;5;132;43;01m}\u001b[39;49;00m\u001b[33;43m.mat\u001b[39;49m\u001b[33;43m'\u001b[39;49m\u001b[43m)\u001b[49m[\u001b[33m'\u001b[39m\u001b[33mdata\u001b[39m\u001b[33m'\u001b[39m])\n\u001b[32m      6\u001b[39m frolich_data = []\n\u001b[32m      7\u001b[39m \u001b[38;5;28;01mfor\u001b[39;00m subj \u001b[38;5;129;01min\u001b[39;00m frolich_subj_list:\n",
      "\u001b[36mFile \u001b[39m\u001b[32m~/PycharmProjects/ICWaves/.venv/lib/python3.11/site-packages/scipy/io/matlab/_mio.py:235\u001b[39m, in \u001b[36mloadmat\u001b[39m\u001b[34m(file_name, mdict, appendmat, spmatrix, **kwargs)\u001b[39m\n\u001b[32m    233\u001b[39m \u001b[38;5;28;01mwith\u001b[39;00m _open_file_context(file_name, appendmat) \u001b[38;5;28;01mas\u001b[39;00m f:\n\u001b[32m    234\u001b[39m     MR, _ = mat_reader_factory(f, **kwargs)\n\u001b[32m--> \u001b[39m\u001b[32m235\u001b[39m     matfile_dict = \u001b[43mMR\u001b[49m\u001b[43m.\u001b[49m\u001b[43mget_variables\u001b[49m\u001b[43m(\u001b[49m\u001b[43mvariable_names\u001b[49m\u001b[43m)\u001b[49m\n\u001b[32m    236\u001b[39m \u001b[38;5;28;01mif\u001b[39;00m spmatrix:\n\u001b[32m    237\u001b[39m     \u001b[38;5;28;01mfrom\u001b[39;00m\u001b[38;5;250m \u001b[39m\u001b[34;01mscipy\u001b[39;00m\u001b[34;01m.\u001b[39;00m\u001b[34;01msparse\u001b[39;00m\u001b[38;5;250m \u001b[39m\u001b[38;5;28;01mimport\u001b[39;00m issparse, coo_matrix\n",
      "\u001b[36mFile \u001b[39m\u001b[32m~/PycharmProjects/ICWaves/.venv/lib/python3.11/site-packages/scipy/io/matlab/_mio5.py:333\u001b[39m, in \u001b[36mMatFile5Reader.get_variables\u001b[39m\u001b[34m(self, variable_names)\u001b[39m\n\u001b[32m    331\u001b[39m     \u001b[38;5;28;01mcontinue\u001b[39;00m\n\u001b[32m    332\u001b[39m \u001b[38;5;28;01mtry\u001b[39;00m:\n\u001b[32m--> \u001b[39m\u001b[32m333\u001b[39m     res = \u001b[38;5;28;43mself\u001b[39;49m\u001b[43m.\u001b[49m\u001b[43mread_var_array\u001b[49m\u001b[43m(\u001b[49m\u001b[43mhdr\u001b[49m\u001b[43m,\u001b[49m\u001b[43m \u001b[49m\u001b[43mprocess\u001b[49m\u001b[43m)\u001b[49m\n\u001b[32m    334\u001b[39m \u001b[38;5;28;01mexcept\u001b[39;00m MatReadError \u001b[38;5;28;01mas\u001b[39;00m err:\n\u001b[32m    335\u001b[39m     warnings.warn(\n\u001b[32m    336\u001b[39m         \u001b[33mf\u001b[39m\u001b[33m'\u001b[39m\u001b[33mUnreadable variable \u001b[39m\u001b[33m\"\u001b[39m\u001b[38;5;132;01m{\u001b[39;00mname\u001b[38;5;132;01m}\u001b[39;00m\u001b[33m\"\u001b[39m\u001b[33m, because \u001b[39m\u001b[33m\"\u001b[39m\u001b[38;5;132;01m{\u001b[39;00merr\u001b[38;5;132;01m}\u001b[39;00m\u001b[33m\"\u001b[39m\u001b[33m'\u001b[39m,\n\u001b[32m    337\u001b[39m         \u001b[38;5;167;01mWarning\u001b[39;00m, stacklevel=\u001b[32m2\u001b[39m)\n",
      "\u001b[36mFile \u001b[39m\u001b[32m~/PycharmProjects/ICWaves/.venv/lib/python3.11/site-packages/scipy/io/matlab/_mio5.py:291\u001b[39m, in \u001b[36mMatFile5Reader.read_var_array\u001b[39m\u001b[34m(self, header, process)\u001b[39m\n\u001b[32m    274\u001b[39m \u001b[38;5;28;01mdef\u001b[39;00m\u001b[38;5;250m \u001b[39m\u001b[34mread_var_array\u001b[39m(\u001b[38;5;28mself\u001b[39m, header, process=\u001b[38;5;28;01mTrue\u001b[39;00m):\n\u001b[32m    275\u001b[39m \u001b[38;5;250m    \u001b[39m\u001b[33;03m''' Read array, given `header`\u001b[39;00m\n\u001b[32m    276\u001b[39m \n\u001b[32m    277\u001b[39m \u001b[33;03m    Parameters\u001b[39;00m\n\u001b[32m   (...)\u001b[39m\u001b[32m    289\u001b[39m \u001b[33;03m       `process`.\u001b[39;00m\n\u001b[32m    290\u001b[39m \u001b[33;03m    '''\u001b[39;00m\n\u001b[32m--> \u001b[39m\u001b[32m291\u001b[39m     \u001b[38;5;28;01mreturn\u001b[39;00m \u001b[38;5;28;43mself\u001b[39;49m\u001b[43m.\u001b[49m\u001b[43m_matrix_reader\u001b[49m\u001b[43m.\u001b[49m\u001b[43marray_from_header\u001b[49m\u001b[43m(\u001b[49m\u001b[43mheader\u001b[49m\u001b[43m,\u001b[49m\u001b[43m \u001b[49m\u001b[43mprocess\u001b[49m\u001b[43m)\u001b[49m\n",
      "\u001b[31mKeyboardInterrupt\u001b[39m: "
     ]
    }
   ],
   "source": [
    "# Load raw data\n",
    "emotion_data = []\n",
    "for subj in emotion_subj_list:\n",
    "    emotion_data.append(loadmat(emotion_filepath / f'subj-{subj}.mat')['data'])\n",
    "\n",
    "frolich_data = []\n",
    "for subj in frolich_subj_list:\n",
    "    frolich_data.append(loadmat(frolich_filepath / f'frolich_extract_{subj}_256_hz.mat')['X'])\n",
    "\n",
    "print(f\"Loaded {len(emotion_data)} emotion subjects and {len(frolich_data)} Fröhlich subjects\")"
   ]
  },
  {
   "cell_type": "markdown",
   "metadata": {},
   "source": [
    "## Compute or Load PSDs"
   ]
  },
  {
   "cell_type": "code",
   "execution_count": null,
   "metadata": {},
   "outputs": [],
   "source": [
    "# Compute PSDs if needed\n",
    "if make_psds:\n",
    "    emotion_raw_psd_filepath.mkdir(parents=True, exist_ok=True)\n",
    "    frolich_raw_psd_filepath.mkdir(parents=True, exist_ok=True)\n",
    "\n",
    "    for i, subj in enumerate(emotion_data):\n",
    "        f, Pxx = psd(subj)\n",
    "        np.savez(emotion_raw_psd_filepath / f'subj-{emotion_subj_list[i]}_psds', Pxx)\n",
    "\n",
    "    for i, subj in enumerate(frolich_data):\n",
    "        f, Pxx = psd(subj)\n",
    "        np.savez(frolich_raw_psd_filepath / f'frolich_extract_{frolich_subj_list[i]}_256_hz_psds', Pxx)\n",
    "    \n",
    "    print(\"PSDs computed and saved\")"
   ]
  },
  {
   "cell_type": "code",
   "execution_count": null,
   "metadata": {},
   "outputs": [],
   "source": [
    "# Load PSDs\n",
    "emotion_data_psds_raw = []\n",
    "frolich_data_psds_raw = []\n",
    "\n",
    "emotion_data_psds_normed = []\n",
    "frolich_data_psds_normed = []\n",
    "\n",
    "# Load raw PSDs\n",
    "if (emotion_raw_psd_filepath).exists():\n",
    "    for subj in emotion_subj_list:\n",
    "        emotion_data_psds_raw.append(np.load(emotion_raw_psd_filepath / f'subj-{subj}_psds.npz')['arr_0'])\n",
    "\n",
    "if (frolich_raw_psd_filepath).exists():\n",
    "    for subj in frolich_subj_list:\n",
    "        frolich_data_psds_raw.append(np.load(frolich_raw_psd_filepath / f'frolich_extract_{subj}_256_hz_psds.npz')['arr_0'])\n",
    "\n",
    "# Load normed PSDs\n",
    "if emotion_normed_psd_filepath.exists():\n",
    "    for subj in emotion_subj_list:\n",
    "        emotion_data_psds_normed.append(np.load(emotion_normed_psd_filepath / f'subj-{subj}_psds_normed.npz')['arr_0'])\n",
    "\n",
    "if frolich_normed_psd_filepath.exists():\n",
    "    for subj in frolich_subj_list:\n",
    "        frolich_data_psds_normed.append(np.load(frolich_normed_psd_filepath / f'frolich_extract_{subj}_256_hz_psds_normed.npz')['arr_0'])\n",
    "\n",
    "print(f\"Loaded {len(emotion_data_psds_raw)} emotion PSDs and {len(frolich_data_psds_raw)} Fröhlich PSDs\")"
   ]
  },
  {
   "cell_type": "markdown",
   "metadata": {},
   "source": [
    "## Load Filters"
   ]
  },
  {
   "cell_type": "code",
   "execution_count": null,
   "metadata": {},
   "outputs": [],
   "source": [
    "# HPC filter paths\n",
    "filters_filepath = data_dir / 'frolich_filters'\n",
    "\n",
    "emotion_original_time_filters = []\n",
    "emotion_original_freq_filters = []\n",
    "\n",
    "for subj in emotion_subj_list:  # Load filters for all subjects\n",
    "    time_filter_path = filters_filepath / f'emotion_normed_psds_normed_barycenter_ch_avg_barycenter_time_filter_{subj}.npz'\n",
    "    freq_filter_path = filters_filepath / f'emotion_normed_psds_normed_barycenter_ch_avg_barycenter_freq_filter_{subj}.npz'\n",
    "    \n",
    "    if time_filter_path.exists():\n",
    "        emotion_original_time_filters.append(np.load(time_filter_path)['arr_0'])\n",
    "    if freq_filter_path.exists():\n",
    "        emotion_original_freq_filters.append(np.load(freq_filter_path)['arr_0'])\n",
    "\n",
    "frolich_original_time_filters = []\n",
    "frolich_original_freq_filters = []\n",
    "frolich_subj_subj_freq_filters = []\n",
    "frolich_subj_subj_time_filters = []\n",
    "\n",
    "for subj in frolich_subj_list:\n",
    "    frolich_original_time_filters.append(np.load(filters_filepath / f'frolich_original_ch_avg_barycenter_time_filter_{subj}.npz')['arr_0'])\n",
    "    frolich_original_freq_filters.append(np.load(filters_filepath / f'frolich_original_ch_avg_barycenter_freq_filter_{subj}.npz')['arr_0'])\n",
    "    frolich_subj_subj_freq_filters.append(np.load(filters_filepath / f'frolich_subj_subj_ch_avg_barycenter_freq_filter_{subj}.npz')['arr_0'])\n",
    "    frolich_subj_subj_time_filters.append(np.load(filters_filepath / f'frolich_subj_subj_ch_avg_barycenter_time_filter_{subj}.npz')['arr_0'])\n",
    "\n",
    "print(f\"Loaded filters for {len(emotion_original_time_filters)} emotion subjects and {len(frolich_original_time_filters)} Fröhlich subjects\")"
   ]
  },
  {
   "cell_type": "markdown",
   "metadata": {},
   "source": [
    "## Visualize Filters"
   ]
  },
  {
   "cell_type": "code",
   "execution_count": null,
   "metadata": {},
   "outputs": [],
   "source": [
    "# Visualize emotion filters\n",
    "if emotion_original_time_filters:\n",
    "    plot_time_filter(emotion_original_time_filters, \n",
    "                    title='Emotion Barycenter Mapping Time Filters', \n",
    "                    save_path=output_dir / 'emotion_original_time_filters.pdf')\n",
    "\n",
    "if emotion_original_freq_filters:\n",
    "    plot_freq_filter(emotion_original_freq_filters, \n",
    "                    title='Emotion Barycenter Mapping Frequency Filters', \n",
    "                    save_path=output_dir / 'emotion_original_freq_filters.pdf')"
   ]
  },
  {
   "cell_type": "code",
   "execution_count": null,
   "metadata": {},
   "outputs": [],
   "source": [
    "# Visualize Fröhlich filters\n",
    "if frolich_original_time_filters:\n",
    "    plot_time_filter(frolich_original_time_filters, \n",
    "                    title='Cue Barycenter Mapping Time Filters', \n",
    "                    save_path=output_dir / 'frolich_original_time_filters.pdf')\n",
    "\n",
    "if frolich_original_freq_filters:\n",
    "    plot_freq_filter(frolich_original_freq_filters, \n",
    "                    title='Cue Barycenter Mapping Frequency Filters', \n",
    "                    save_path=output_dir / 'frolich_original_freq_filters.pdf')\n",
    "\n",
    "# Also plot Fröhlich subject-to-subject filters\n",
    "if frolich_subj_subj_time_filters:\n",
    "    plot_time_filter(frolich_subj_subj_time_filters, \n",
    "                    title='Cue Subj-to-subj Mapping Time Filters', \n",
    "                    save_path=output_dir / 'frolich_subj_subj_time_filters.pdf')\n",
    "\n",
    "if frolich_subj_subj_freq_filters:\n",
    "    plot_freq_filter(frolich_subj_subj_freq_filters, \n",
    "                    title='Cue Subj-to-subj Mapping Frequency Filters', \n",
    "                    save_path=output_dir / 'frolich_subj_subj_freq_filters.pdf')"
   ]
  },
  {
   "cell_type": "markdown",
   "metadata": {},
   "source": [
    "## Visualize Raw PSDs and Barycenter"
   ]
  },
  {
   "cell_type": "code",
   "execution_count": null,
   "metadata": {},
   "outputs": [],
   "source": [
    "# Raw PSDs for emotion and Fröhlich\n",
    "plot_psd(emotion_data, psds=emotion_data_psds_raw, \n",
    "         title='Emotion Data, Unnormalized PSDs', \n",
    "         save_path=output_dir / 'emotion_psd_raw.pdf')\n",
    "\n",
    "plot_psd(frolich_data, psds=frolich_data_psds_raw, \n",
    "         title='Cue Data, Unnormalized PSDs', \n",
    "         save_path=output_dir / 'frolich_psd_raw.pdf')"
   ]
  },
  {
   "cell_type": "code",
   "execution_count": null,
   "metadata": {},
   "outputs": [],
   "source": [
    "# Normed barycenter for emotion\n",
    "normed_emotion_barycenter = np.load(data_dir / 'frolich_filters' / 'emotion_normed_ch_avg_barycenter.npz')['arr_0']\n",
    "plot_barycenter(normed_emotion_barycenter, \n",
    "                title='Normalized Emotion Barycenter', \n",
    "                save_path=output_dir / 'emotion_normed_barycenter.pdf')"
   ]
  },
  {
   "cell_type": "markdown",
   "metadata": {},
   "source": [
    "## Transform Data Using Filters"
   ]
  },
  {
   "cell_type": "code",
   "execution_count": null,
   "metadata": {},
   "outputs": [],
   "source": [
    "# Transform the Fröhlich data using the provided filters\n",
    "for i, subj in enumerate(frolich_subj_list):\n",
    "    # Check if transformed data already exists\n",
    "    subj_subj_path = frolich_transformed_filepath / f'frolich_extract_{subj}_256_hz_subj_subj_ch_avg_barycenter_cmmn.npz'\n",
    "    subj_subj_psd_path = frolich_transformed_subj_subj_psd_filepath / f'frolich_extract_{subj}_256_hz_subj_subj_ch_avg_barycenter_cmmn_psds.npz'\n",
    "    original_path = frolich_transformed_filepath / f'frolich_extract_{subj}_256_hz_original_ch_avg_barycenter_cmmn.npz'\n",
    "    original_psd_path = frolich_transformed_original_psd_filepath / f'frolich_extract_{subj}_256_hz_original_ch_avg_barycenter_cmmn_psds.npz'\n",
    "    \n",
    "    if subj_subj_path.exists() and subj_subj_psd_path.exists() and original_path.exists() and original_psd_path.exists():\n",
    "        continue\n",
    "\n",
    "    # Print progress\n",
    "    print(f'Transforming Fröhlich data for subject {subj} ({i+1}/{len(frolich_subj_list)})')\n",
    "\n",
    "    # Subject-to-subject transformation\n",
    "    time_filter = frolich_subj_subj_time_filters[i]\n",
    "    transformed_data = transform_data_subj_subj_single(frolich_data[i], time_filter)\n",
    "    np.savez(subj_subj_path, transformed_data)\n",
    "\n",
    "    # Save PSDs\n",
    "    f, Pxx = psd(transformed_data)\n",
    "    np.savez(subj_subj_psd_path, Pxx)\n",
    "\n",
    "    # Original filter transformation\n",
    "    time_filter = frolich_original_time_filters[i]\n",
    "    transformed_data = transform_original_single(frolich_data[i], time_filter)\n",
    "    np.savez(original_path, transformed_data)\n",
    "\n",
    "    # Save PSDs\n",
    "    f, Pxx = psd(transformed_data)\n",
    "    np.savez(original_psd_path, Pxx)\n",
    "\n",
    "    print(f'Transformed Fröhlich data for subject {subj} and calculated and saved PSDs')"
   ]
  },
  {
   "cell_type": "code",
   "execution_count": null,
   "metadata": {},
   "outputs": [],
   "source": [
    "# Transform the emotion data using original filters\n",
    "for i, subj in enumerate(emotion_subj_list):\n",
    "    # Skip if already done\n",
    "    emotion_path = emotion_transformed_filepath / f'emotion_data_{subj}_256_hz_original_ch_avg_barycenter_cmmn.npz'\n",
    "    emotion_psd_path = emotion_transformed_psd_filepath / f'emotion_data_{subj}_256_hz_original_ch_avg_barycenter_cmmn_psds.npz'\n",
    "    \n",
    "    if emotion_path.exists() and emotion_psd_path.exists():\n",
    "        continue\n",
    "\n",
    "    # Print progress\n",
    "    print(f'Transforming emotion data for subject {subj} ({i+1}/{len(emotion_subj_list)})')\n",
    "\n",
    "    time_filter = emotion_original_time_filters[i]\n",
    "    transformed_data = transform_original_single(emotion_data[i], time_filter)\n",
    "    np.savez(emotion_path, transformed_data)\n",
    "\n",
    "    # Save PSDs\n",
    "    f, Pxx = psd(transformed_data)\n",
    "    np.savez(emotion_psd_path, Pxx)\n",
    "\n",
    "    print(f'Transformed emotion data for subject {subj} and calculated and saved PSDs')"
   ]
  },
  {
   "cell_type": "markdown",
   "metadata": {},
   "source": [
    "## Visualize Transformed Data"
   ]
  },
  {
   "cell_type": "code",
   "execution_count": null,
   "metadata": {},
   "outputs": [],
   "source": [
    "# Load transformed PSDs\n",
    "frolich_transformed_subj_subj_psd_filepath.mkdir(parents=True, exist_ok=True)\n",
    "frolich_transformed_original_psd_filepath.mkdir(parents=True, exist_ok=True)\n",
    "emotion_transformed_psd_filepath.mkdir(parents=True, exist_ok=True)\n",
    "\n",
    "frolich_transformed_subj_subj_psds = []\n",
    "frolich_transformed_original_psds = []\n",
    "emotion_transformed_psds = []\n",
    "\n",
    "for subj in frolich_subj_list:\n",
    "    subj_subj_psd_path = frolich_transformed_subj_subj_psd_filepath / f'frolich_extract_{subj}_256_hz_subj_subj_ch_avg_barycenter_cmmn_psds.npz'\n",
    "    original_psd_path = frolich_transformed_original_psd_filepath / f'frolich_extract_{subj}_256_hz_original_ch_avg_barycenter_cmmn_psds.npz'\n",
    "    \n",
    "    if subj_subj_psd_path.exists():\n",
    "        frolich_transformed_subj_subj_psds.append(np.load(subj_subj_psd_path)['arr_0'])\n",
    "    if original_psd_path.exists():\n",
    "        frolich_transformed_original_psds.append(np.load(original_psd_path)['arr_0'])\n",
    "\n",
    "for subj in emotion_subj_list:\n",
    "    emotion_psd_path = emotion_transformed_psd_filepath / f'emotion_data_{subj}_256_hz_original_ch_avg_barycenter_cmmn_psds.npz'\n",
    "    if emotion_psd_path.exists():\n",
    "        emotion_transformed_psds.append(np.load(emotion_psd_path)['arr_0'])\n",
    "\n",
    "print(f\"Loaded {len(frolich_transformed_subj_subj_psds)} transformed Fröhlich PSDs and {len(emotion_transformed_psds)} transformed emotion PSDs\")"
   ]
  },
  {
   "cell_type": "code",
   "execution_count": null,
   "metadata": {},
   "outputs": [],
   "source": [
    "# Plot the transformed PSDs\n",
    "if frolich_transformed_subj_subj_psds:\n",
    "    plot_psd(frolich_transformed_subj_subj_psds, \n",
    "             title='Cue Transformed - Subj-to-subj Mapping', \n",
    "             save_path=output_dir / 'frolich_transformed_subj_subj_psds.pdf')\n",
    "\n",
    "if frolich_transformed_original_psds:\n",
    "    plot_psd(frolich_transformed_original_psds, \n",
    "             title='Cue Transformed - Barycenter Mapping', \n",
    "             save_path=output_dir / 'frolich_transformed_original_psds.pdf')\n",
    "\n",
    "if emotion_transformed_psds:\n",
    "    plot_psd(emotion_transformed_psds, \n",
    "             title='Emotion Transformed - Barycenter Mapping', \n",
    "             save_path=output_dir / 'emotion_transformed_psds.pdf')"
   ]
  },
  {
   "cell_type": "markdown",
   "metadata": {},
   "source": [
    "## Summary"
   ]
  },
  {
   "cell_type": "code",
   "execution_count": null,
   "metadata": {},
   "outputs": [],
   "source": [
    "print(\"\\n\" + \"=\"*60)\n",
    "print(\"VISUALIZATION COMPLETE!\")\n",
    "print(\"=\"*60)\n",
    "print(f\"All figures saved to: {output_dir}\")\n",
    "print(f\"Processed {len(emotion_subj_list)} emotion subjects and {len(frolich_subj_list)} Fröhlich subjects\")\n",
    "\n",
    "# Print which PSDs were used\n",
    "print(f\"\\nPSD Usage:\")\n",
    "if emotion_data_psds_normed:\n",
    "    print(f\"  - Emotion: Using NORMED PSDs for processing\")\n",
    "else:\n",
    "    print(f\"  - Emotion: Using RAW PSDs (normed not found)\")\n",
    "\n",
    "if frolich_data_psds_normed:\n",
    "    print(f\"  - Fröhlich: Using NORMED PSDs for processing\")\n",
    "else:\n",
    "    print(f\"  - Fröhlich: Using RAW PSDs (normed not found)\")\n",
    "\n",
    "print(\"\\nFigures generated:\")\n",
    "\n",
    "for fig_file in sorted(output_dir.glob(\"*.pdf\")):\n",
    "    print(f\"  - {fig_file.name}\")\n",
    "\n",
    "print(f\"\\nTotal PDF files: {len(list(output_dir.glob('*.pdf')))}\")\n",
    "print(\"Ready for NER paper submission!\")"
   ]
  }
 ],
 "metadata": {
  "kernelspec": {
   "display_name": ".venv",
   "language": "python",
   "name": "python3"
  },
  "language_info": {
   "codemirror_mode": {
    "name": "ipython",
    "version": 3
   },
   "file_extension": ".py",
   "mimetype": "text/x-python",
   "name": "python",
   "nbconvert_exporter": "python",
   "pygments_lexer": "ipython3",
   "version": "3.11.13"
  }
 },
 "nbformat": 4,
 "nbformat_minor": 4
}
