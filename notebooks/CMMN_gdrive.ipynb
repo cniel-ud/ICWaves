{
  "nbformat": 4,
  "nbformat_minor": 0,
  "metadata": {
    "colab": {
      "provenance": [],
      "gpuType": "T4"
    },
    "kernelspec": {
      "name": "python3",
      "display_name": "Python 3"
    },
    "language_info": {
      "name": "python"
    }
  },
  "cells": [
    {
      "cell_type": "markdown",
      "source": [
        "Dr. B has recommended to do the notebook here in colab so that we all have the same data and can easily run it. I think it's a good idea so I'm porting it over now. Still saving to the git repo though.\n",
        "\n",
        "Other things Dr. B asked to fix today:\n",
        "1. Keep things in frequency domain, use irfft not ifft. So no casting aside of complex values here.\n",
        "2. Do the barycenter norming with his suggested method, not CMMN's method.\n",
        "\n",
        "Later, once this is complete, will refresh on the newly refactored codebase to do BoW on this and then Carlos can test it with his shiny new clfs."
      ],
      "metadata": {
        "id": "EOSeJEYeLqtu"
      }
    },
    {
      "cell_type": "code",
      "execution_count": null,
      "metadata": {
        "id": "9Sh1VRYeLpFo"
      },
      "outputs": [],
      "source": [
        "# imports\n",
        "import scipy\n",
        "import numpy as np\n",
        "import matplotlib.pyplot as plt\n",
        "from pathlib import Path\n",
        "from scipy.io import loadmat\n",
        "from scipy.signal import butter, sosfilt, welch, freqz, sosfreqz, filtfilt, lfilter\n",
        "from scipy.fft import rfft, rfftfreq, irfft\n",
        "from typing import List, Tuple"
      ]
    },
    {
      "cell_type": "code",
      "source": [
        "# just a handful for testing the notebook\n",
        "emotion_subj_list = ['01', '02', '03', '04']\n",
        "frolich_subj_list = ['01', '02', '03', '04']"
      ],
      "metadata": {
        "id": "kawvLxjHOjb-"
      },
      "execution_count": null,
      "outputs": []
    },
    {
      "cell_type": "markdown",
      "source": [
        "Below code grabs PSD for us and plots it. Note that this will give us PSD by channel. We'll want to be careful about that for broadcasting purposes."
      ],
      "metadata": {
        "id": "lfCbc16UOyuI"
      }
    },
    {
      "cell_type": "code",
      "source": [
        "def psd(data, fs=256, nperseg=256):\n",
        "    \"\"\"\n",
        "    Compute the Power Spectral Density (PSD) of the given data.\n",
        "\n",
        "    Parameters:\n",
        "    - data: list of numpy arrays, each containing EEG data for a subject\n",
        "    - fs: sampling frequency (default: 256 Hz)\n",
        "    - nperseg: length of each segment for Welch's method (default: 256)\n",
        "\n",
        "    Returns:\n",
        "    - f: array of sample frequencies (x-axis)\n",
        "    - Pxx: power spectral density of the data (y-axis)\n",
        "    \"\"\"\n",
        "\n",
        "    f, Pxx = welch(data, fs=fs, nperseg=nperseg)\n",
        "    return f, Pxx\n",
        "\n",
        "# Define a function to plot PSD\n",
        "def plot_psd(data, fs=256, nperseg=256, psds=None, title='PSD'):\n",
        "    \"\"\"\n",
        "    Plot the Power Spectral Density (PSD) of the given data.\n",
        "\n",
        "    Note: right now this is straight averaging, not the barycenter norming I do later.\n",
        "    If I want to do the norming, apply that first and then this will not average for me.\n",
        "\n",
        "    Parameters:\n",
        "    - data: list of numpy arrays, each containing EEG data for a subject\n",
        "    - fs: sampling frequency (default: 256 Hz)\n",
        "    - nperseg: length of each segment for Welch's method (default: 256)\n",
        "    \"\"\"\n",
        "    plt.figure(figsize=(12, 8))\n",
        "\n",
        "    for i, subj_data in enumerate(data):\n",
        "        # If subj_data is multi-dimensional, average across the channels\n",
        "\n",
        "        \"\"\"\n",
        "        Note, the below two are different because in the first I average the channels before taking the PSD,\n",
        "        and in the second I average the channels after taking the PSD.\n",
        "\n",
        "        Maybe should ask this to Dr. B and Carlos. Which is better since they do seem to result in some differences\n",
        "\n",
        "        In the rest, when calculating the barycenter and computing the filter, I average AFTER computing the PSD. Follow that convention.\n",
        "\n",
        "        Clean below later, but keep it as is for now to ask Dr. B and Carlos about it in the meeting later.\n",
        "        \"\"\"\n",
        "        if psds is None:\n",
        "            # If subj_data is multi-dimensional, average across the channels\n",
        "            if subj_data.ndim > 1:\n",
        "                subj_data = np.mean(subj_data, axis=0)\n",
        "            f, Pxx = psd(subj_data, fs=fs, nperseg=nperseg)\n",
        "\n",
        "            plt.plot(f, 10 * np.log10(Pxx), label=f'Subject {i+1}')\n",
        "        else:\n",
        "            viz_psds = [np.zeros_like(psd) for psd in psds]\n",
        "            if psds[i].ndim > 1:\n",
        "                viz_psds[i] = np.mean(psds[i], axis=0)\n",
        "\n",
        "            f = np.linspace(0, 128, 129)\n",
        "\n",
        "            plt.plot(f, 10 * np.log10(viz_psds[i]), label=f'Subject {i+1}')\n",
        "\n",
        "\n",
        "    plt.xlabel('Frequency (Hz)')\n",
        "    plt.ylabel('Power Spectral Density (dB/Hz)')\n",
        "    plt.title(title)\n",
        "    plt.legend()\n",
        "    plt.show()"
      ],
      "metadata": {
        "id": "GEDM29VuOokX"
      },
      "execution_count": null,
      "outputs": []
    },
    {
      "cell_type": "markdown",
      "source": [
        "Below will load in the data.\n",
        "\n",
        "Note that PSD computation is going to be the bulk of the notebook's runtime. We store the PSDs after the first run to help iterate faster.\n",
        "\n",
        "Additional note: The default runtime on Colab will crash when calculating PSDs for 4 subjects of both datasets at once. If you want to iterate on the PSDs, change the subject list or just use the ones I've preloaded."
      ],
      "metadata": {
        "id": "X41NuqwOPmwZ"
      }
    },
    {
      "cell_type": "code",
      "source": [
        "make_psds = True # change to True if running the notebook for the first time.\n",
        "emotion_filepath = Path('drive/MyDrive/CMMN_data/emotion_256')\n",
        "frolich_filepath = Path('drive/MyDrive/CMMN_data/frolich_256')\n",
        "\n",
        "# grab raw data\n",
        "emotion_data = []\n",
        "for subj in emotion_subj_list:\n",
        "  emotion_data.append(loadmat(emotion_filepath / f'subj-{subj}.mat')['data'])\n",
        "\n",
        "frolich_data = []\n",
        "for subj in frolich_subj_list:\n",
        "  frolich_data.append(loadmat(frolich_filepath / f'frolich_extract_{subj}_256_hz.mat')['X'])\n",
        "\n",
        "if make_psds:\n",
        "  (emotion_filepath / 'psds').mkdir(parents=True, exist_ok=True)\n",
        "  (frolich_filepath / 'psds').mkdir(parents=True, exist_ok=True)\n",
        "\n",
        "  for i, subj in enumerate(emotion_data):\n",
        "    f, Pxx = psd(subj)\n",
        "    np.savez(emotion_filepath / 'psds' / f'subj-{emotion_subj_list[i]}_psds', Pxx)\n",
        "\n",
        "  for i, subj in enumerate(frolich_data):\n",
        "    f, Pxx = psd(subj)\n",
        "    np.savez(frolich_filepath / 'psds' / f'frolich_extract_{frolich_subj_list[i]}_256_hz_psds', Pxx)\n",
        "\n",
        "emotion_data_psds_raw = []\n",
        "frolich_data_psds_raw = []\n",
        "\n",
        "if (emotion_filepath / 'psds').exists():\n",
        "  for subj in emotion_subj_list:\n",
        "    emotion_data_psds_raw.append(np.load(emotion_filepath / 'psds' / f'subj-{subj}_psds.npz')['arr_0'])\n",
        "\n",
        "if (frolich_filepath / 'psds').exists():\n",
        "  for subj in frolich_subj_list:\n",
        "    frolich_data_psds_raw.append(np.load(frolich_filepath / 'psds' / f'frolich_extract_{subj}_256_hz_psds.npz')['arr_0'])"
      ],
      "metadata": {
        "id": "scw6uZaNPvV5"
      },
      "execution_count": null,
      "outputs": []
    },
    {
      "cell_type": "markdown",
      "source": [
        "![cmmn wasserstein barycenter form cropped.png](data:image/png;base64,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)\n",
        "\n",
        "\n",
        "Here calculate the barycenter. Above is the barycenter calculation from the CMMN paper. Equation 6, page 14.\n",
        "\n",
        "\n",
        "I will calculate by norming over each subject's sum, as recommended by Dr. B on slack."
      ],
      "metadata": {
        "id": "KKt9ibHKQ79N"
      }
    },
    {
      "cell_type": "code",
      "source": [
        "def compute_normed_barycenter(data, psds=None):\n",
        "  \"\"\"\n",
        "\n",
        "  \"\"\"\n",
        "\n",
        "  normalized_psds = []\n",
        "  if psds is None:\n",
        "    psds = []\n",
        "  for i, subj in enumerate(data):\n",
        "      if psds is None:\n",
        "          f, Pxx = psd(subj)\n",
        "          psds.append(Pxx)\n",
        "          normalized_psds.append(Pxx / np.sum(Pxx))\n",
        "      else:\n",
        "          normalized_psds.append(psds[i] / np.sum(psds[i]))\n",
        "\n",
        "  # now average all together\n",
        "  per_subj_avgs = []\n",
        "  for subj in normalized_psds:\n",
        "      avg = np.mean(subj, axis=0)\n",
        "      per_subj_avgs.append(np.mean(subj, axis=0)) # necessary due to inhomogenous dimensions\n",
        "\n",
        "  barycenter = np.mean(per_subj_avgs, axis=0)\n",
        "\n",
        "  return barycenter\n",
        "\n",
        "\n",
        "def plot_barycenter(barycenter):\n",
        "  \"\"\"\n",
        "  Plot the normed barycenter of the given data.\n",
        "\n",
        "  Parameters:\n",
        "  - barycenter: numpy array containing the normed barycenter of the data\n",
        "  \"\"\"\n",
        "  plt.figure(figsize=(12, 8))\n",
        "  f = np.linspace(0, 128, 129)\n",
        "  plt.plot(f, 10 * np.log10(barycenter))\n",
        "\n",
        "  plt.xlabel('Frequency (Hz)')\n",
        "  plt.ylabel('Power Spectral Density (dB/Hz)')\n",
        "  plt.title('Normed Barycenter')\n",
        "  plt.show()"
      ],
      "metadata": {
        "id": "kuK_1q3uVmhz"
      },
      "execution_count": null,
      "outputs": []
    },
    {
      "cell_type": "markdown",
      "source": [
        "Below are the filter computation portions. Remember to keep everything in the frequency domain, use irfft not ifft, etc."
      ],
      "metadata": {
        "id": "QvPSC1wzWtiO"
      }
    },
    {
      "cell_type": "code",
      "source": [
        "def compute_filter(data, barycenter, psds=None):\n",
        "  \"\"\"\n",
        "  Compute the filter to transform the given data to the barycenter.\n",
        "\n",
        "  Parameters:\n",
        "  - data: list of numpy arrays, each containing EEG data for a subject in the target data (cue / frolich here)\n",
        "  - barycenter: numpy array containing the normed barycenter of the data\n",
        "\n",
        "  Returns:\n",
        "  - freq_filter: numpy array containing the filter in the frequency domain\n",
        "  - time_filter: numpy array containing the filter in the time domain\n",
        "  \"\"\"\n",
        "\n",
        "  if psds is None:\n",
        "    psds = []\n",
        "    for subj in data:\n",
        "        f, Pxx = psd(subj)\n",
        "        psds.append(Pxx)\n",
        "\n",
        "  # here we collapse channels down. our paradigm does not include channel - channel correspondence between domains\n",
        "  avg_psds_per_subj = [\n",
        "    np.mean(subj, axis=0) for subj in psds\n",
        "  ]\n",
        "\n",
        "  # computing filters now. irfft\n",
        "  freq_filter_per_subj = []\n",
        "  for avg_psd_per_subj in avg_psds_per_subj:\n",
        "    freq_filter = np.sqrt(barycenter) / np.sqrt(avg_psd_per_subj)\n",
        "    freq_filter_per_subj.append(freq_filter)\n",
        "\n",
        "  time_filter_per_subj = []\n",
        "  for subj in freq_filter_per_subj:\n",
        "    time_filter = np.fft.irfft(subj) # note, now with real values only.\n",
        "    time_filter_per_subj.append(time_filter)\n",
        "\n",
        "  return freq_filter_per_subj, time_filter_per_subj\n",
        "\n",
        "\n",
        "\n",
        "# also some plotting funcs\n",
        "def plot_freq_filter(freq_filter, fs=256):\n",
        "  \"\"\"\n",
        "  Plot the filter in the frequency domain.\n",
        "\n",
        "  Parameters:\n",
        "  - freq_filter: numpy array containing the filter in the frequency domain\n",
        "  - fs: sampling frequency (default: 256 Hz)\n",
        "\n",
        "  \"\"\"\n",
        "\n",
        "  plt.figure(figsize=(12, 8))\n",
        "  f = np.linspace(0, fs/2, freq_filter[0].shape[-1])\n",
        "  for i, subj in enumerate(freq_filter):\n",
        "      plt.plot(f, 10 * np.log10(np.abs(subj.T)), label=f'Subject {i+1}')\n",
        "\n",
        "  plt.xlabel('Frequency (Hz)')\n",
        "  plt.ylabel('Filter (dB)')\n",
        "  plt.title('Frequency Filters')\n",
        "  plt.legend()\n",
        "  plt.show()\n",
        "\n",
        "def plot_time_filter(time_filter, fs=256):\n",
        "  \"\"\"\n",
        "  Plot the filter in the time domain.\n",
        "\n",
        "  Parameters:\n",
        "  - time_filter: numpy array containing the filter in the time domain\n",
        "  - fs: sampling frequency (default: 256 Hz)\n",
        "  \"\"\"\n",
        "\n",
        "  plt.figure(figsize=(12, 8))\n",
        "  t = np.arange(len(time_filter[0])) / fs\n",
        "  for i, subj in enumerate(time_filter):\n",
        "      plt.plot(t, np.real(subj), label=f'Subject {i+1}')\n",
        "\n",
        "  plt.xlabel('Time (s)')\n",
        "  plt.ylabel('Amplitude')\n",
        "  plt.title('Time Domain Filter')\n",
        "  plt.legend()\n",
        "  plt.show()"
      ],
      "metadata": {
        "id": "wr9p8croWSUO"
      },
      "execution_count": null,
      "outputs": []
    },
    {
      "cell_type": "markdown",
      "source": [],
      "metadata": {
        "id": "2FFtwaRbjR5K"
      }
    }
  ]
}