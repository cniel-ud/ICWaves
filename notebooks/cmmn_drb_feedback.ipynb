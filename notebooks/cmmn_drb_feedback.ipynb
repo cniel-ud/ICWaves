{
 "cells": [
  {
   "cell_type": "markdown",
   "metadata": {},
   "source": [
    "Here is a new notebook incorporating some recent feedback from Dr. B on this. "
   ]
  },
  {
   "cell_type": "code",
   "execution_count": null,
   "metadata": {
    "vscode": {
     "languageId": "plaintext"
    }
   },
   "outputs": [],
   "source": [
    "# imports\n",
    "import scipy\n",
    "import numpy as np\n",
    "import matplotlib.pyplot as plt\n",
    "from pathlib import Path\n",
    "from scipy.io import loadmat\n",
    "from scipy.signal import butter, sosfilt, welch, freqz, sosfreqz, filtfilt, lfilter\n",
    "from scipy.fft import rfft, rfftfreq, irfft\n",
    "from typing import List, Tuple"
   ]
  },
  {
   "cell_type": "code",
   "execution_count": null,
   "metadata": {
    "vscode": {
     "languageId": "plaintext"
    }
   },
   "outputs": [],
   "source": [
    "# uncomment to viz whole thing\n",
    "# emotion_subj_list = [1, 2, 3, 4, 5, 6, 7, 8, 9, 10, 11, 12, 13, 14, 15, 16, 17, 18, 19, 20, 21, 22, 23, 24, 25, 26, 27, 28, 29, 30, 31, 32, 33, 34, 35] # note subj. 22 is missing\n",
    "# cue_subj_list = [1, 2, 3, 4, 5, 6, 7, 8, 9, 10, 11, 12]\n",
    "\n",
    "# comment out to do more than a few. just a handful for testing the notebook\n",
    "emotion_subj_list = ['01', '02', '03', '04']\n",
    "frolich_subj_list = ['01', '02', '03', '04']"
   ]
  },
  {
   "cell_type": "code",
   "execution_count": null,
   "metadata": {
    "vscode": {
     "languageId": "plaintext"
    }
   },
   "outputs": [],
   "source": [
    "def make_windows_from_signal(signal, window_length):\n",
    "    if signal.ndim == 1 or np.min(signal.shape)==1:\n",
    "        segment_length = len(signal)\n",
    "    else:\n",
    "        n_channels, segment_length = signal.shape\n",
    "    num_windows = segment_length // window_length\n",
    "    trunc_signal_size = num_windows * window_length\n",
    "    if signal.ndim == 1 or np.min(signal.shape)==1:\n",
    "        windows = signal[:int(trunc_signal_size)].reshape((-1, window_length))\n",
    "    else:\n",
    "        windows = signal[:,:int(trunc_signal_size)].reshape((-1, window_length))\n",
    "    return windows\n",
    "\n",
    "\n",
    "def make_psds(windows, fs=1, return_freq=False, nfft=None):\n",
    "    window_length = windows.shape[1]\n",
    "    if nfft is None:\n",
    "        nfft = window_length\n",
    "    if return_freq:\n",
    "        T = 1 / fs\n",
    "        return rfftfreq(nfft, T), np.abs(rfft(windows, axis=1, n=nfft)) ** 2\n",
    "    else:\n",
    "        return np.abs(rfft(windows, axis=1, n=nfft)) ** 2\n",
    "\n",
    "\n",
    "def make_cmm_filters(f_targets, f_sources):\n",
    "    freq_response_magnitudes = np.zeros_like(f_sources)\n",
    "    f_js_12 = np.sqrt(f_targets)\n",
    "    for i in range(len(f_sources)):\n",
    "        f_i_12 = np.sqrt(f_sources[i])\n",
    "        j_star_i = np.argmin(np.sum((f_js_12 - f_i_12) ** 2, axis=1))\n",
    "        freq_response_magnitudes[i] = f_js_12[j_star_i] / f_i_12\n",
    "    return freq_response_magnitudes\n",
    "\n",
    "\n",
    "def spectral_filtering(x, freq_response_magnitude, type='lfilter', pad_frac=0.5):\n",
    "    # Assume x is 2D where first dimension is channels/ICs and second is time\n",
    "    pad_x = np.zeros_like(x)[:, :int(x.shape[1] * pad_frac)]\n",
    "    padded_x = np.hstack((pad_x, x))\n",
    "    if type=='filtfilt':\n",
    "        b = irfft(np.sqrt(freq_response_magnitude))  # take square root for filtfilt\n",
    "        filtered_x = filtfilt(b, 1, padded_x, axis=1)[:, pad_x.shape[1]:]\n",
    "    else:\n",
    "        b = irfft(freq_response_magnitude)\n",
    "        filtered_x = lfilter(b, 1, padded_x, axis=1)[:, pad_x.shape[1]:]\n",
    "    return filtered_x\n",
    "\n",
    "\n",
    "def cmm_filter_signals_to_signals(source_signals, target_signals, window_length, pad_frac=0, filtering_type='filtfilt'):\n",
    "    # Assume source_signals/target_signals are list of 2D signals where first dimension is channels/ICs and second is time\n",
    "    source_psds = [np.mean(make_psds(make_windows_from_signal(s, window_length)),axis=0) for s in source_signals]\n",
    "    target_psds = [np.mean(make_psds(make_windows_from_signal(s, window_length)), axis=0) for s in target_signals]\n",
    "    cmm_freq_response_magnitudes = make_cmm_filters(target_psds, source_psds)\n",
    "    source_signals_filtered = [spectral_filtering(s, f, filtering_type, pad_frac)\n",
    "                               for s, f in zip(source_signals, cmm_freq_response_magnitudes)]\n",
    "    return source_signals_filtered"
   ]
  },
  {
   "cell_type": "code",
   "execution_count": null,
   "metadata": {
    "vscode": {
     "languageId": "plaintext"
    }
   },
   "outputs": [],
   "source": [
    "# plotting and util functions\n",
    "\n"
   ]
  },
  {
   "cell_type": "code",
   "execution_count": null,
   "metadata": {
    "vscode": {
     "languageId": "plaintext"
    }
   },
   "outputs": [],
   "source": [
    "# load data\n",
    "emotion_filepath = Path('../data/emotion_256/raw_data_and_IC_labels')\n",
    "frolich_filepath = Path('../data/frolich_256/frolich_extract_256_hz')\n",
    "\n",
    "emotion_data = []\n",
    "for subj in emotion_subj_list:\n",
    "    emotion_data.append(loadmat(emotion_filepath / f'subj-{subj}.mat')['data'])\n",
    "\n",
    "frolich_data = []\n",
    "for subj in frolich_subj_list:\n",
    "    frolich_data.append(loadmat(frolich_filepath / f'frolich_extract_{subj}_256_hz.mat')['X'])"
   ]
  },
  {
   "cell_type": "code",
   "execution_count": null,
   "metadata": {
    "vscode": {
     "languageId": "plaintext"
    }
   },
   "outputs": [],
   "source": [
    "# compute all filters"
   ]
  },
  {
   "cell_type": "code",
   "execution_count": null,
   "metadata": {
    "vscode": {
     "languageId": "plaintext"
    }
   },
   "outputs": [],
   "source": [
    "# filter data"
   ]
  },
  {
   "cell_type": "code",
   "execution_count": null,
   "metadata": {
    "vscode": {
     "languageId": "plaintext"
    }
   },
   "outputs": [],
   "source": [
    "# plot results"
   ]
  }
 ],
 "metadata": {
  "language_info": {
   "name": "python"
  }
 },
 "nbformat": 4,
 "nbformat_minor": 2
}
