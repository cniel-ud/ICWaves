{
 "cells": [
  {
   "cell_type": "code",
   "execution_count": 1,
   "metadata": {},
   "outputs": [
    {
     "ename": "FileNotFoundError",
     "evalue": "[Errno 2] No such file or directory: '/Users/gcarlmen/personal_repos/ICWaves/results/emotion_study/final_logistic_bowav_valSegLennone.pkl'",
     "output_type": "error",
     "traceback": [
      "\u001b[0;31m---------------------------------------------------------------------------\u001b[0m",
      "\u001b[0;31mFileNotFoundError\u001b[0m                         Traceback (most recent call last)",
      "Cell \u001b[0;32mIn[1], line 22\u001b[0m\n\u001b[1;32m     14\u001b[0m config \u001b[38;5;241m=\u001b[39m EvalConfig(\n\u001b[1;32m     15\u001b[0m     dataset_name\u001b[38;5;241m=\u001b[39m\u001b[38;5;124m\"\u001b[39m\u001b[38;5;124memotion_study\u001b[39m\u001b[38;5;124m\"\u001b[39m,  \u001b[38;5;66;03m# or 'cue'\u001b[39;00m\n\u001b[1;32m     16\u001b[0m     feature_extractor\u001b[38;5;241m=\u001b[39m\u001b[38;5;124m\"\u001b[39m\u001b[38;5;124mbowav\u001b[39m\u001b[38;5;124m\"\u001b[39m,  \u001b[38;5;66;03m# or 'psd_autocorr'\u001b[39;00m\n\u001b[1;32m     17\u001b[0m     classifier_type\u001b[38;5;241m=\u001b[39m\u001b[38;5;124m\"\u001b[39m\u001b[38;5;124mlogistic\u001b[39m\u001b[38;5;124m\"\u001b[39m,  \u001b[38;5;66;03m# or 'random_forest'\u001b[39;00m\n\u001b[1;32m     18\u001b[0m     root\u001b[38;5;241m=\u001b[39mroot,\n\u001b[1;32m     19\u001b[0m )\n\u001b[1;32m     21\u001b[0m \u001b[38;5;66;03m# Load classifier\u001b[39;00m\n\u001b[0;32m---> 22\u001b[0m clf, best_params \u001b[38;5;241m=\u001b[39m \u001b[43mload_classifier\u001b[49m\u001b[43m(\u001b[49m\u001b[43mconfig\u001b[49m\u001b[43m)\u001b[49m\n\u001b[1;32m     24\u001b[0m \u001b[38;5;66;03m# Load data\u001b[39;00m\n\u001b[1;32m     25\u001b[0m data_bundle, feature_extractor \u001b[38;5;241m=\u001b[39m get_data_and_feature_extractor(config)\n",
      "File \u001b[0;32m~/personal_repos/ICWaves/icwaves/evaluation/evaluation.py:16\u001b[0m, in \u001b[0;36mload_classifier\u001b[0;34m(config)\u001b[0m\n\u001b[1;32m     14\u001b[0m \u001b[38;5;250m\u001b[39m\u001b[38;5;124;03m\"\"\"Load trained classifier and its best parameters.\"\"\"\u001b[39;00m\n\u001b[1;32m     15\u001b[0m clf_path \u001b[38;5;241m=\u001b[39m config\u001b[38;5;241m.\u001b[39mpaths[\u001b[38;5;124m\"\u001b[39m\u001b[38;5;124mresults_file\u001b[39m\u001b[38;5;124m\"\u001b[39m]\n\u001b[0;32m---> 16\u001b[0m \u001b[38;5;28;01mwith\u001b[39;00m \u001b[43mclf_path\u001b[49m\u001b[38;5;241;43m.\u001b[39;49m\u001b[43mopen\u001b[49m\u001b[43m(\u001b[49m\u001b[38;5;124;43m\"\u001b[39;49m\u001b[38;5;124;43mrb\u001b[39;49m\u001b[38;5;124;43m\"\u001b[39;49m\u001b[43m)\u001b[49m \u001b[38;5;28;01mas\u001b[39;00m f:\n\u001b[1;32m     17\u001b[0m     results \u001b[38;5;241m=\u001b[39m pickle\u001b[38;5;241m.\u001b[39mload(f)\n\u001b[1;32m     19\u001b[0m clf \u001b[38;5;241m=\u001b[39m (\n\u001b[1;32m     20\u001b[0m     results[\u001b[38;5;124m\"\u001b[39m\u001b[38;5;124mbest_estimator\u001b[39m\u001b[38;5;124m\"\u001b[39m][\u001b[38;5;124m\"\u001b[39m\u001b[38;5;124mclf\u001b[39m\u001b[38;5;124m\"\u001b[39m]\n\u001b[1;32m     21\u001b[0m     \u001b[38;5;28;01mif\u001b[39;00m \u001b[38;5;124m\"\u001b[39m\u001b[38;5;124mclf\u001b[39m\u001b[38;5;124m\"\u001b[39m \u001b[38;5;129;01min\u001b[39;00m results[\u001b[38;5;124m\"\u001b[39m\u001b[38;5;124mbest_estimator\u001b[39m\u001b[38;5;124m\"\u001b[39m]\n\u001b[1;32m     22\u001b[0m     \u001b[38;5;28;01melse\u001b[39;00m results[\u001b[38;5;124m\"\u001b[39m\u001b[38;5;124mbest_estimator\u001b[39m\u001b[38;5;124m\"\u001b[39m]\n\u001b[1;32m     23\u001b[0m )\n",
      "File \u001b[0;32m~/.local/share/mise/installs/python/3.10.14/lib/python3.10/pathlib.py:1119\u001b[0m, in \u001b[0;36mPath.open\u001b[0;34m(self, mode, buffering, encoding, errors, newline)\u001b[0m\n\u001b[1;32m   1117\u001b[0m \u001b[38;5;28;01mif\u001b[39;00m \u001b[38;5;124m\"\u001b[39m\u001b[38;5;124mb\u001b[39m\u001b[38;5;124m\"\u001b[39m \u001b[38;5;129;01mnot\u001b[39;00m \u001b[38;5;129;01min\u001b[39;00m mode:\n\u001b[1;32m   1118\u001b[0m     encoding \u001b[38;5;241m=\u001b[39m io\u001b[38;5;241m.\u001b[39mtext_encoding(encoding)\n\u001b[0;32m-> 1119\u001b[0m \u001b[38;5;28;01mreturn\u001b[39;00m \u001b[38;5;28;43mself\u001b[39;49m\u001b[38;5;241;43m.\u001b[39;49m\u001b[43m_accessor\u001b[49m\u001b[38;5;241;43m.\u001b[39;49m\u001b[43mopen\u001b[49m\u001b[43m(\u001b[49m\u001b[38;5;28;43mself\u001b[39;49m\u001b[43m,\u001b[49m\u001b[43m \u001b[49m\u001b[43mmode\u001b[49m\u001b[43m,\u001b[49m\u001b[43m \u001b[49m\u001b[43mbuffering\u001b[49m\u001b[43m,\u001b[49m\u001b[43m \u001b[49m\u001b[43mencoding\u001b[49m\u001b[43m,\u001b[49m\u001b[43m \u001b[49m\u001b[43merrors\u001b[49m\u001b[43m,\u001b[49m\n\u001b[1;32m   1120\u001b[0m \u001b[43m                           \u001b[49m\u001b[43mnewline\u001b[49m\u001b[43m)\u001b[49m\n",
      "\u001b[0;31mFileNotFoundError\u001b[0m: [Errno 2] No such file or directory: '/Users/gcarlmen/personal_repos/ICWaves/results/emotion_study/final_logistic_bowav_valSegLennone.pkl'"
     ]
    }
   ],
   "source": [
    "# Imports and setup\n",
    "from pathlib import Path\n",
    "import numpy as np\n",
    "from icwaves.evaluation.evaluation import load_classifier, evaluate_classifier\n",
    "from icwaves.evaluation.config import EvalConfig\n",
    "from icwaves.feature_extractors.bowav import build_bowav_from_centroid_assignments\n",
    "from icwaves.feature_extractors.iclabel_features import get_iclabel_features_per_segment\n",
    "from icwaves.viz import plot_line_with_error_area\n",
    "from icwaves.feature_extractors.utils import _get_conversion_factor\n",
    "from icwaves.data.loading import get_data_and_feature_extractor\n",
    "\n",
    "# Configuration\n",
    "root = Path().absolute().parent\n",
    "config = EvalConfig(\n",
    "    dataset_name=\"emotion_study\",  # or 'cue'\n",
    "    feature_extractor=\"bowav\",  # or 'psd_autocorr'\n",
    "    classifier_type=\"logistic\",  # or 'random_forest'\n",
    "    root=root,\n",
    ")\n",
    "\n",
    "# Load classifier\n",
    "clf, best_params = load_classifier(config)\n",
    "\n",
    "# Load data\n",
    "data_bundle, feature_extractor = get_data_and_feature_extractor(config)\n",
    "if best_params[\"input_or_output_aggregation_method\"] == \"majority_vote\":\n",
    "    conversion_factor = _get_conversion_factor(args=config, srate=data_bundle.srate)\n",
    "    min_secs = int(best_params[\"training_segment_length\"] / conversion_factor)\n",
    "    validation_times = np.r_[\n",
    "        np.arange(min_secs, 5 * 60 + 1, 60),\n",
    "        np.arange(10 * 60, 50 * 60 + 1, 5 * 60),\n",
    "    ]\n",
    "else:\n",
    "    validation_times = np.r_[\n",
    "        np.arange(10, 60 + 1, 10),\n",
    "        np.arange(2 * 60, 5 * 60 + 1, 60),\n",
    "        np.arange(5 * 60, 5 * 60 + 1, 60),\n",
    "        np.arange(10 * 60, 50 * 60 + 1, 5 * 60),\n",
    "    ]\n",
    "\n",
    "# Evaluate\n",
    "results_df = evaluate_classifier(\n",
    "    config,\n",
    "    clf,\n",
    "    feature_extractor,\n",
    "    validation_times,\n",
    "    data_bundle,\n",
    "    best_params[\"input_or_output_aggregation_method\"],\n",
    "    best_params[\"training_segment_length\"],\n",
    ")\n",
    "\n",
    "# Visualize results\n",
    "# plot_results(results_df, config.feature_type)"
   ]
  },
  {
   "cell_type": "code",
   "execution_count": null,
   "metadata": {},
   "outputs": [],
   "source": []
  }
 ],
 "metadata": {
  "kernelspec": {
   "display_name": ".venv",
   "language": "python",
   "name": "python3"
  },
  "language_info": {
   "codemirror_mode": {
    "name": "ipython",
    "version": 3
   },
   "file_extension": ".py",
   "mimetype": "text/x-python",
   "name": "python",
   "nbconvert_exporter": "python",
   "pygments_lexer": "ipython3",
   "version": "3.10.14"
  }
 },
 "nbformat": 4,
 "nbformat_minor": 2
}
